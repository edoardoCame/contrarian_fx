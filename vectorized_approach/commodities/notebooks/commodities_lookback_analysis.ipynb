{
 "cells": [
  {
   "cell_type": "code",
   "execution_count": null,
   "metadata": {},
   "outputs": [],
   "source": [
    "# Esporta il portfolio commodity ottimizzato con il miglior lookback \n",
    "print(\"🚀 Esportazione portfolio commodity ottimizzato...\")\n",
    "\n",
    "# Prendi il portfolio con il miglior performance \n",
    "best_portfolio_name = best_performer['Lookback']\n",
    "best_portfolio_data = portfolio_results[best_portfolio_name]['portfolio_df']\n",
    "\n",
    "print(f\"📊 Portfolio COMMODITY FUTURES selezionato: {best_portfolio_name}\")\n",
    "print(f\"📈 Performance: {best_performer['Total Return (%)']:.2f}%\")\n",
    "print(f\"📊 Sharpe Ratio: {best_performer['Sharpe Ratio']:.3f}\")\n",
    "print(f\"📊 Max Drawdown: {best_performer['Max Drawdown']*100:.2f}%\")\n",
    "\n",
    "# Esporta come file parquet per l'analisi giornaliera\n",
    "output_path = results_dir / 'risk_parity_commodity_portfolio.parquet'\n",
    "best_portfolio_data.to_parquet(output_path)\n",
    "\n",
    "print(f\"✅ Portfolio commodity ottimizzato esportato in: {output_path}\")\n",
    "print(f\"📊 Dati esportati: {best_portfolio_data.shape[0]} giorni, {best_portfolio_data.shape[1]} colonne\")\n",
    "\n",
    "# Mostra statistiche finali commodity\n",
    "final_equity = best_portfolio_data['equity'].iloc[-1]\n",
    "print(f\"\\n=== PORTFOLIO COMMODITY OTTIMIZZATO ({best_portfolio_name}) ===\")\n",
    "print(f\"Equity finale: {final_equity:.4f}\")\n",
    "print(f\"Return totale: {(final_equity-1)*100:.2f}%\") \n",
    "print(f\"Periodo: {best_portfolio_data.index.min().strftime('%Y-%m-%d')} - {best_portfolio_data.index.max().strftime('%Y-%m-%d')}\")\n",
    "\n",
    "# Confronto con individual top commodity\n",
    "print(f\"\\n=== CONFRONTO CON TOP INDIVIDUAL COMMODITY ===\")\n",
    "top_individual = final_returns.head(1)\n",
    "for ticker, ret in top_individual.items():\n",
    "    print(f\"Top individual ({ticker}): {ret:.1%}\")\n",
    "    portfolio_ret = (final_equity-1)*100/100\n",
    "    print(f\"Risk Parity Portfolio: {portfolio_ret:.1%}\")\n",
    "    if portfolio_ret < ret:\n",
    "        print(f\"⚠️  Individual strategy outperformed by {(ret-portfolio_ret):.1%}\")\n",
    "    else:\n",
    "        print(f\"🏆 Portfolio outperformed by {(portfolio_ret-ret):.1%}\")\n",
    "\n",
    "print(\"=\"*60)"
   ]
  },
  {
   "cell_type": "markdown",
   "metadata": {},
   "source": [
    "## 8. Esportazione Portfolio Ottimizzato - Commodity Futures\n",
    "\n",
    "Esportiamo il portafoglio commodity con il miglior lookbook per l'analisi delle operazioni giornaliere."
   ]
  },
  {
   "cell_type": "markdown",
   "metadata": {},
   "source": [
    "## Conclusioni - Analisi Lookback Commodity Futures\n",
    "\n",
    "L'analisi ha testato diversi periodi di lookback per il risk parity portfolio su **strategie contrarian commodity futures**:\n",
    "\n",
    "- **Lookback più brevi** (7-14 giorni): Più reattivi ma potenzialmente più rumorosi, particolarmente importante per commodity data la loro volatilità\n",
    "- **Lookback medi** (22-44 giorni): Bilanciamento tra reattività e stabilità, spesso ottimali per futures  \n",
    "- **Lookback lunghi** (66-132 giorni): Più stabili ma meno adattivi ai cambi di regime tipici delle commodity\n",
    "\n",
    "Il sistema ha identificato automaticamente il periodo ottimale per i **commodity futures** basandosi sulla performance totale.\n",
    "\n",
    "### ⚠️ SPECIFICHE COMMODITY FUTURES\n",
    "Il portfolio commodity viene **ribilanciato giornalmente** con caratteristiche specifiche:\n",
    "- **Commissioni IBKR realistiche**: $2-4 per round-trip per futures vs. spread forex\n",
    "- **Maggiore volatilità**: Le commodity hanno volatilità intrinseca più alta del forex\n",
    "- **Correlazioni diverse**: Dinamiche diverse da forex (geopolitica, supply/demand, stagionalità)\n",
    "- **Lookahead bias evitato**: Pesi sempre laggati di 1 giorno anche per futures"
   ]
  },
  {
   "cell_type": "code",
   "execution_count": null,
   "metadata": {},
   "outputs": [],
   "source": [
    "# Calcola Equal Weight Benchmark per commodity futures\n",
    "equity_prices = 1 + equity_curves\n",
    "daily_returns = equity_prices.pct_change().fillna(0)\n",
    "equal_weight_returns = daily_returns.mean(axis=1)\n",
    "equal_weight_equity = (1 + equal_weight_returns).cumprod()\n",
    "equal_weight_clean = clean_data(equal_weight_equity.to_frame()).iloc[:, 0]\n",
    "\n",
    "# Plot: Best Risk Parity vs Equal Weight per commodity futures\n",
    "fig, ax = plt.subplots(figsize=(14, 8))\n",
    "\n",
    "# Best risk parity\n",
    "best_name = best_performer['Lookback']\n",
    "best_equity = portfolio_results[best_name]['equity']\n",
    "best_final = (best_equity.iloc[-1] - 1) * 100\n",
    "\n",
    "ax.plot(best_equity.index, best_equity.values, \n",
    "        label=f'Risk Parity ({best_name}): {best_final:.1f}%', \n",
    "        linewidth=3, color='red')\n",
    "\n",
    "# Equal weight benchmark\n",
    "ew_final = (equal_weight_clean.iloc[-1] - 1) * 100\n",
    "ax.plot(equal_weight_clean.index, equal_weight_clean.values,\n",
    "        label=f'Equal Weight Benchmark: {ew_final:.1f}%', \n",
    "        linewidth=2, color='blue', alpha=0.8)\n",
    "\n",
    "ax.set_title(f'Best Risk Parity ({best_name}) vs Equal Weight - COMMODITY FUTURES', fontsize=16)\n",
    "ax.set_xlabel('Data')\n",
    "ax.set_ylabel('Portfolio Value')\n",
    "ax.legend(fontsize=12)\n",
    "ax.grid(True, alpha=0.3)\n",
    "\n",
    "# Calcola outperformance\n",
    "outperformance = best_final - ew_final\n",
    "ax.text(0.02, 0.95, f'Outperformance: {outperformance:+.1f}%', \n",
    "        transform=ax.transAxes, fontsize=12, fontweight='bold',\n",
    "        bbox=dict(boxstyle='round', \n",
    "                 facecolor='lightgreen' if outperformance > 0 else 'lightcoral', \n",
    "                 alpha=0.7),\n",
    "        verticalalignment='top')\n",
    "\n",
    "plt.subplots_adjust(bottom=0.1, top=0.9)\n",
    "plt.show()\n",
    "\n",
    "print(f\"\\n=== CONFRONTO FINALE - COMMODITY FUTURES ===\")\n",
    "print(f\"Best Risk Parity ({best_name}): {best_final:.2f}%\")\n",
    "print(f\"Equal Weight Benchmark: {ew_final:.2f}%\")\n",
    "print(f\"Outperformance: {outperformance:+.2f}%\")"
   ]
  },
  {
   "cell_type": "markdown",
   "metadata": {},
   "source": [
    "## 7. Confronto con Equal Weight Benchmark - Commodity Futures"
   ]
  },
  {
   "cell_type": "code",
   "execution_count": null,
   "metadata": {},
   "outputs": [],
   "source": [
    "# Plot drawdown comparison per commodity futures\n",
    "fig, ax = plt.subplots(figsize=(16, 8))\n",
    "\n",
    "for i, (period_name, results) in enumerate(portfolio_results.items()):\n",
    "    equity = results['equity']\n",
    "    \n",
    "    # Calcola drawdown\n",
    "    rolling_max = equity.expanding().max()\n",
    "    drawdown = (equity - rolling_max) / rolling_max * 100\n",
    "    \n",
    "    ax.fill_between(\n",
    "        drawdown.index, \n",
    "        drawdown.values, \n",
    "        0,\n",
    "        label=f\"{period_name} (max: {drawdown.min():.1f}%)\", \n",
    "        alpha=0.6,\n",
    "        color=colors[i]\n",
    "    )\n",
    "\n",
    "ax.set_title('Drawdown Comparison - Different Lookback Periods (COMMODITY FUTURES)', fontsize=16)\n",
    "ax.set_xlabel('Data', fontsize=12)\n",
    "ax.set_ylabel('Drawdown (%)', fontsize=12)\n",
    "ax.legend(bbox_to_anchor=(1.05, 1), loc='upper left', fontsize=10)\n",
    "ax.grid(True, alpha=0.3)\n",
    "\n",
    "plt.subplots_adjust(right=0.75)\n",
    "plt.show()"
   ]
  },
  {
   "cell_type": "code",
   "execution_count": null,
   "metadata": {},
   "outputs": [],
   "source": [
    "# Il notebook commodity lookback analysis è ora completo!\n",
    "# Esegui tutte le celle per vedere:\n",
    "# - Test di tutti i lookback periods\n",
    "# - Confronto performance e equity curves ottimizzate  \n",
    "# - Analisi drawdown\n",
    "# - Confronto con equal weight benchmark\n",
    "# - Esportazione portfolio ottimizzato\n",
    "\n",
    "print(\"🎯 Notebook commodities_lookback_analysis.ipynb aggiornato con sezioni complete!\")\n",
    "print(\"🚀 Ora include tutte le visualizzazioni equity curves come il forex notebook!\")\n",
    "print(\"📊 Esegui tutte le celle per vedere i risultati completi.\")"
   ]
  },
  {
   "cell_type": "code",
   "execution_count": null,
   "metadata": {},
   "outputs": [],
   "source": [
    "# Plot equity curves di tutti i lookback periods per commodity futures\n",
    "fig, ax = plt.subplots(figsize=(16, 10))\n",
    "\n",
    "# Colori per ogni linea\n",
    "colors = plt.cm.tab10(np.linspace(0, 1, len(portfolio_results)))\n",
    "\n",
    "for i, (period_name, results) in enumerate(portfolio_results.items()):\n",
    "    equity = results['equity']\n",
    "    n_days = results['n_days']\n",
    "    final_return = (equity.iloc[-1] - 1) * 100\n",
    "    \n",
    "    ax.plot(\n",
    "        equity.index, \n",
    "        equity.values, \n",
    "        label=f\"{period_name} ({n_days}d): {final_return:.1f}%\", \n",
    "        linewidth=2.5 if period_name == best_performer['Lookback'] else 1.5,\n",
    "        alpha=0.9 if period_name == best_performer['Lookback'] else 0.7,\n",
    "        color=colors[i]\n",
    "    )\n",
    "\n",
    "ax.set_title('Risk Parity Portfolio - Confronto Lookback Periods (COMMODITY FUTURES)', \n",
    "             fontsize=16, fontweight='bold')\n",
    "ax.set_xlabel('Data', fontsize=12)\n",
    "ax.set_ylabel('Portfolio Value', fontsize=12)\n",
    "ax.legend(bbox_to_anchor=(1.05, 1), loc='upper left', fontsize=10)\n",
    "ax.grid(True, alpha=0.3)\n",
    "\n",
    "# Evidenzia il migliore nel titolo\n",
    "ax.text(0.02, 0.98, f'Migliore: {best_performer[\"Lookback\"]}', \n",
    "        transform=ax.transAxes, fontsize=12, fontweight='bold',\n",
    "        bbox=dict(boxstyle='round', facecolor='lightgreen', alpha=0.7),\n",
    "        verticalalignment='top')\n",
    "\n",
    "plt.subplots_adjust(right=0.75)\n",
    "plt.show()"
   ]
  },
  {
   "cell_type": "markdown",
   "metadata": {},
   "source": [
    "## 5. Confronto Equity Curves - Risk Parity Ottimizzate Commodity Futures"
   ]
  },
  {
   "cell_type": "code",
   "execution_count": null,
   "metadata": {},
   "outputs": [],
   "source": [
    "# Crea tabella performance commodity futures\n",
    "performance_df = pd.DataFrame(performance_summary)\n",
    "performance_df = performance_df.sort_values('Total Return (%)', ascending=False)\n",
    "\n",
    "print(\"=== PERFORMANCE COMPARISON BY LOOKBACK - COMMODITY FUTURES ===\\n\")\n",
    "print(performance_df.round(4))\n",
    "\n",
    "# Trova il migliore per commodity futures\n",
    "best_performer = performance_df.iloc[0]\n",
    "print(f\"\\n🏆 MIGLIORE LOOKBACK PER COMMODITY FUTURES: {best_performer['Lookback']} ({best_performer['Days']} giorni)\")\n",
    "print(f\"   Return: {best_performer['Total Return (%)']:.2f}%\")\n",
    "print(f\"   Sharpe: {best_performer['Sharpe Ratio']:.3f}\")\n",
    "print(f\"   Max DD: {best_performer['Max Drawdown']*100:.2f}%\")"
   ]
  },
  {
   "cell_type": "markdown",
   "metadata": {},
   "source": [
    "## 4. Tabella Riassuntiva Performance Commodity Futures"
   ]
  },
  {
   "cell_type": "markdown",
   "metadata": {},
   "source": [
    "# Risk Parity Lookback Analysis - Commodity Futures\n",
    "\n",
    "Test di diversi periodi di lookback per il risk parity portfolio su strategie contrarian commodity futures.\n",
    "\n",
    "**IMPORTANTE**: Il portfolio viene ribilanciato **giornalmente** invece che settimanalmente, con pesi laggati di 1 giorno per evitare lookahead bias e **commissioni IBKR realistiche** per futures."
   ]
  },
  {
   "cell_type": "code",
   "execution_count": 1,
   "metadata": {},
   "outputs": [
    {
     "name": "stdout",
     "output_type": "stream",
     "text": [
      "Setup completato - Commodity Futures Lookback Analysis\n"
     ]
    }
   ],
   "source": [
    "import pandas as pd\n",
    "import numpy as np\n",
    "import matplotlib.pyplot as plt\n",
    "from pathlib import Path\n",
    "import warnings\n",
    "import sys\n",
    "sys.path.append('../../modules')\n",
    "from strategy_contrarian import rebalance_risk_parity\n",
    "warnings.filterwarnings('ignore')\n",
    "\n",
    "# Configurazione plot\n",
    "plt.rcParams['figure.figsize'] = (15, 10)\n",
    "plt.rcParams['axes.grid'] = True\n",
    "\n",
    "def clean_data(df):\n",
    "    \"\"\"Pulisce completamente i dati da infiniti e NaN\"\"\"\n",
    "    df_clean = df.replace([np.inf, -np.inf], np.nan)\n",
    "    df_clean = df_clean.fillna(method='ffill')\n",
    "    df_clean = df_clean.fillna(0)\n",
    "    mask = ~np.isfinite(df_clean.values)\n",
    "    if mask.any():\n",
    "        df_clean = df_clean.mask(mask, 0)\n",
    "    return df_clean\n",
    "\n",
    "print(\"Setup completato - Commodity Futures Lookback Analysis\")"
   ]
  },
  {
   "cell_type": "markdown",
   "metadata": {},
   "source": [
    "## 1. Caricamento Dati Commodity Futures"
   ]
  },
  {
   "cell_type": "code",
   "execution_count": 2,
   "metadata": {},
   "outputs": [
    {
     "name": "stdout",
     "output_type": "stream",
     "text": [
      "Commodity Futures equity curves caricate: (5696, 15)\n",
      "Date range: 2010-01-04 00:00:00 to 2025-08-08 00:00:00\n",
      "Index type: <class 'pandas.core.indexes.datetimes.DatetimeIndex'>\n",
      "Commodity Futures disponibili: ['CL=F', 'NG=F', 'BZ=F', 'RB=F', 'HO=F', 'GC=F', 'SI=F', 'HG=F', 'PA=F', 'ZC=F', 'ZW=F', 'ZS=F', 'SB=F', 'CT=F', 'CC=F']\n",
      "Test dayofweek: [0, 1, 2, 3, 4]\n",
      "\n",
      "=== TOP 5 COMMODITY FUTURES (senza ottimizzazione lookback) ===\n",
      "NG=F: 2829.0%\n",
      "SI=F: 543.9%\n",
      "RB=F: 284.4%\n",
      "GC=F: 156.0%\n",
      "BZ=F: 119.6%\n"
     ]
    }
   ],
   "source": [
    "# Carica equity curves delle strategie contrarian commodity futures\n",
    "results_dir = Path('../data/results')\n",
    "\n",
    "# Load parquet file\n",
    "equity_curves = pd.read_parquet(results_dir / 'all_equity_curves.parquet')\n",
    "\n",
    "# Pulisci e converti in price series per risk parity\n",
    "equity_curves = clean_data(equity_curves)\n",
    "\n",
    "# IMPORTANTE: Assicurati che l'index sia DatetimeIndex\n",
    "if not isinstance(equity_curves.index, pd.DatetimeIndex):\n",
    "    equity_curves.index = pd.to_datetime(equity_curves.index)\n",
    "\n",
    "strategy_prices = (1 + equity_curves).fillna(1)\n",
    "\n",
    "# Assicurati che anche strategy_prices abbia DatetimeIndex\n",
    "if not isinstance(strategy_prices.index, pd.DatetimeIndex):\n",
    "    strategy_prices.index = pd.to_datetime(strategy_prices.index)\n",
    "\n",
    "print(f\"Commodity Futures equity curves caricate: {equity_curves.shape}\")\n",
    "print(f\"Date range: {equity_curves.index.min()} to {equity_curves.index.max()}\")\n",
    "print(f\"Index type: {type(equity_curves.index)}\")\n",
    "print(f\"Commodity Futures disponibili: {list(equity_curves.columns)}\")\n",
    "\n",
    "# Verifica che dayofweek funzioni\n",
    "print(f\"Test dayofweek: {equity_curves.index.dayofweek[:5].tolist()}\")\n",
    "\n",
    "# Mostra performance preliminari\n",
    "final_returns = equity_curves.iloc[-1].sort_values(ascending=False)\n",
    "print(f\"\\n=== TOP 5 COMMODITY FUTURES (senza ottimizzazione lookback) ===\")\n",
    "for ticker, ret in final_returns.head(5).items():\n",
    "    print(f\"{ticker}: {ret:.1%}\")"
   ]
  },
  {
   "cell_type": "markdown",
   "metadata": {},
   "source": [
    "## 2. Definizione Periodi di Lookback\n",
    "\n",
    "Testiamo gli stessi periodi del forex ma su commodity futures che potrebbero avere dinamiche diverse:"
   ]
  },
  {
   "cell_type": "code",
   "execution_count": 3,
   "metadata": {},
   "outputs": [
    {
     "name": "stdout",
     "output_type": "stream",
     "text": [
      "Periodi di lookback da testare su COMMODITY FUTURES:\n",
      "- 1 settimana: 7 giorni\n",
      "- 2 settimane: 14 giorni\n",
      "- 1 mese: 22 giorni\n",
      "- 6 settimane: 44 giorni\n",
      "- 2 mesi: 44 giorni\n",
      "- 3 mesi: 66 giorni\n",
      "- 6 mesi: 132 giorni\n",
      "\n",
      "⚠️  NOTA IMPORTANTE: Portfolio commodity futures ribilanciato GIORNALMENTE con pesi laggati di 1 giorno(i)\n",
      "⚠️  COMMISSIONI: Applicate commissioni IBKR realistiche per futures ($2-4 per round-trip)\n"
     ]
    }
   ],
   "source": [
    "# Definisci periodi di lookback da testare (identici a forex per confrontabilità)\n",
    "lookback_periods = {\n",
    "    '1 settimana': 7,\n",
    "    '2 settimane': 14, \n",
    "    '1 mese': 22,  # Default\n",
    "    '6 settimane': 44,\n",
    "    '2 mesi': 44,\n",
    "    '3 mesi': 66,\n",
    "    '6 mesi': 132\n",
    "}\n",
    "\n",
    "print(\"Periodi di lookback da testare su COMMODITY FUTURES:\")\n",
    "for name, days in lookback_periods.items():\n",
    "    print(f\"- {name}: {days} giorni\")\n",
    "    \n",
    "# Altri parametri fissi\n",
    "THRESHOLD = -0.1  # Soglia performance minima\n",
    "SHIFT = 1        # Giorni di shift per evitare lookahead bias (CRITICO: pesi laggati di 1 giorno)\n",
    "\n",
    "print(f\"\\n⚠️  NOTA IMPORTANTE: Portfolio commodity futures ribilanciato GIORNALMENTE con pesi laggati di {SHIFT} giorno(i)\")\n",
    "print(f\"⚠️  COMMISSIONI: Applicate commissioni IBKR realistiche per futures ($2-4 per round-trip)\")"
   ]
  },
  {
   "cell_type": "markdown",
   "metadata": {},
   "source": [
    "## 3. Test di Tutti i Lookback Periods"
   ]
  }
 ],
 "metadata": {
  "kernelspec": {
   "display_name": "Python 3",
   "language": "python",
   "name": "python3"
  },
  "language_info": {
   "codemirror_mode": {
    "name": "ipython",
    "version": 3
   },
   "file_extension": ".py",
   "mimetype": "text/x-python",
   "name": "python",
   "nbconvert_exporter": "python",
   "pygments_lexer": "ipython3",
   "version": "3.13.3"
  }
 },
 "nbformat": 4,
 "nbformat_minor": 4
}
